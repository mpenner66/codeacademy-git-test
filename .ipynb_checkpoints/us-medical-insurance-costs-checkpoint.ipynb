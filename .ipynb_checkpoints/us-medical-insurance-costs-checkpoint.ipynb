{
 "cells": [
  {
   "cell_type": "markdown",
   "metadata": {},
   "source": [
    "# U.S. Medical Insurance Costs"
   ]
  },
  {
   "cell_type": "code",
   "execution_count": 1,
   "metadata": {},
   "outputs": [],
   "source": [
    "#Determine the differences in medical costs regionally, between male and females, non-smokers and smokers, between various age groups, and between those who have children and those who do not. Assumption is that charges are on based on U.S. dollar amounts."
   ]
  },
  {
   "cell_type": "code",
   "execution_count": 2,
   "metadata": {},
   "outputs": [],
   "source": [
    "import csv\n",
    "\n",
    "records = {}\n",
    "# retreive data from CSV file and store in dictionary with id for each record\n",
    "with open('insurance.csv') as csv_file:\n",
    "    insurance_records = csv.DictReader(csv_file)\n",
    "    id = 1\n",
    "    for key in insurance_records:\n",
    "        records[id] = key\n",
    "        id += 1"
   ]
  },
  {
   "cell_type": "code",
   "execution_count": 3,
   "metadata": {},
   "outputs": [],
   "source": [
    "#dictionary and list based on regions in records\n",
    "def records_by_region():\n",
    "    for id in records:\n",
    "        current_region = records[id][\"region\"]\n",
    "        current_record = records[id]        \n",
    "        if current_region not in records_region.keys():\n",
    "            records_region[current_region] = {id: current_record}\n",
    "        else:\n",
    "            records_region[current_region].update({id: current_record})\n",
    "    return records_region"
   ]
  },
  {
   "cell_type": "code",
   "execution_count": 5,
   "metadata": {},
   "outputs": [],
   "source": [
    "records_region = {}\n",
    "records_by_region()\n",
    "list_region = records_region.keys()\n",
    "#print(record_region)"
   ]
  },
  {
   "cell_type": "code",
   "execution_count": 8,
   "metadata": {},
   "outputs": [],
   "source": [
    "#dictionary and list based on sex in records\n",
    "def records_by_sex():\n",
    "    for id in records:\n",
    "        current_sex = records[id][\"sex\"]\n",
    "        current_record = records[id]\n",
    "        if current_sex not in records_sex.keys():\n",
    "            records_sex[current_sex] = {id: current_record}\n",
    "        else:\n",
    "            records_sex[current_sex].update({id: current_record})\n",
    "    return records_sex"
   ]
  },
  {
   "cell_type": "code",
   "execution_count": 9,
   "metadata": {},
   "outputs": [],
   "source": [
    "records_sex = {}\n",
    "records_by_sex()\n",
    "list_sex = records_sex.keys()\n",
    "#print(records_by_sex())"
   ]
  },
  {
   "cell_type": "code",
   "execution_count": 10,
   "metadata": {},
   "outputs": [],
   "source": [
    "#dictionary based on smoker in records\n",
    "def records_by_smoker():\n",
    "    for id in records:\n",
    "        current_smoker = records[id][\"smoker\"]\n",
    "        current_record = records[id]\n",
    "        if current_smoker not in records_smoker.keys():\n",
    "            records_smoker[current_smoker] = {id: current_record}\n",
    "        else:\n",
    "            records_smoker[current_smoker].update({id: current_record})\n",
    "    return records_smoker"
   ]
  },
  {
   "cell_type": "code",
   "execution_count": 11,
   "metadata": {},
   "outputs": [],
   "source": [
    "records_smoker = {}\n",
    "records_by_smoker()\n",
    "list_smoker = records_smoker.keys()\n",
    "#print(records_by_smoker())"
   ]
  },
  {
   "cell_type": "code",
   "execution_count": 12,
   "metadata": {},
   "outputs": [],
   "source": [
    "#dictionary and list based on ranges of age in records\n",
    "def records_by_age_range():\n",
    "    for id in records:\n",
    "        current_age = records[id][\"age\"]\n",
    "        current_record = records[id]\n",
    "        if int(current_age) in range(0, 18):\n",
    "            current_age_range = '0-17'\n",
    "        elif int(current_age) in range(18, 26):\n",
    "            current_age_range = '18-25'\n",
    "        elif int(current_age) in range(26, 40):\n",
    "            current_age_range = '26-39'\n",
    "        elif int(current_age) in range(40, 65):\n",
    "            current_age_range = '40-64'\n",
    "        elif int(current_age) in range(65, 100):\n",
    "            current_age_range = '65-99'\n",
    "        else:\n",
    "            current_age_range = 'Other'\n",
    "        if current_age_range not in records_age_range:\n",
    "            records_age_range[current_age_range] = {id: current_record}\n",
    "        else:\n",
    "            records_age_range[current_age_range].update({id: current_record})\n",
    "    return records_age_range"
   ]
  },
  {
   "cell_type": "code",
   "execution_count": 13,
   "metadata": {},
   "outputs": [],
   "source": [
    "records_age_range = {}\n",
    "records_by_age_range()\n",
    "list_age_range = records_age_range.keys()\n",
    "#print(records_by_age_range())"
   ]
  },
  {
   "cell_type": "code",
   "execution_count": 14,
   "metadata": {},
   "outputs": [],
   "source": [
    "#dictionary based on those having children or not\n",
    "def records_by_children():\n",
    "    for id in records:\n",
    "        current_child = records[id][\"children\"]\n",
    "        current_record = records[id]\n",
    "        if int(current_child) == 0:\n",
    "            current_answer = 'no'\n",
    "        elif int(current_child) > 0:\n",
    "            current_answer = 'yes'\n",
    "        else:\n",
    "            current_answer = 'other'\n",
    "        if current_answer not in records_children:\n",
    "            records_children[current_answer] = {id: current_record}\n",
    "        else:\n",
    "            records_children[current_answer].update({id: current_record})\n",
    "    return records_children"
   ]
  },
  {
   "cell_type": "code",
   "execution_count": 15,
   "metadata": {},
   "outputs": [],
   "source": [
    "records_children = {}\n",
    "records_by_children()\n",
    "list_children = records_children.keys()\n",
    "#print(records_by_children())"
   ]
  },
  {
   "cell_type": "code",
   "execution_count": 16,
   "metadata": {},
   "outputs": [],
   "source": [
    "# determine medical costs by region\n",
    "def costs_region(regions=list_region):\n",
    "    for region in regions:\n",
    "        total_cost = 0.0\n",
    "        min_cost = float('inf')\n",
    "        max_cost = 0.0\n",
    "        num_records = len(records_region[region])\n",
    "        for id in records_region[region]:\n",
    "            cost = float(records_region[region][id]['charges'])\n",
    "            total_cost += cost\n",
    "            if cost < min_cost:\n",
    "                min_cost = cost\n",
    "            if cost > max_cost:\n",
    "                max_cost = cost\n",
    "        cost_region[region] = {'Cases': num_records\n",
    "                               , 'Total': int(total_cost)\n",
    "                               , 'Avg': int(total_cost / num_records)\n",
    "                               , 'Min': int(min_cost)\n",
    "                               , 'Max': int(max_cost)\n",
    "                              }\n",
    "    return cost_region"
   ]
  },
  {
   "cell_type": "code",
   "execution_count": 17,
   "metadata": {},
   "outputs": [
    {
     "name": "stdout",
     "output_type": "stream",
     "text": [
      "For the southwest, the number cases was 325 with total charges of $4012754. The average charge was $12346, the minumum was $1241, and maximum was $52590.\n",
      "For the southeast, the number cases was 364 with total charges of $5363689. The average charge was $14735, the minumum was $1121, and maximum was $63770.\n",
      "For the northwest, the number cases was 325 with total charges of $4035711. The average charge was $12417, the minumum was $1621, and maximum was $60021.\n",
      "For the northeast, the number cases was 324 with total charges of $4343668. The average charge was $13406, the minumum was $1694, and maximum was $58571.\n"
     ]
    }
   ],
   "source": [
    "#Enter region(s) as list to return medical cost information based on region\n",
    "cost_region = {}\n",
    "costs_region()\n",
    "#print(list_region)\n",
    "\n",
    "for region in cost_region:\n",
    "    print(\"For the {region}, the number cases was {num} with total charges of ${total}. The average charge was ${avg}, the minumum was ${min}, and maximum was ${max}.\".format(region=region, num=cost_region[region]['Cases'], total=cost_region[region]['Total'], avg=cost_region[region]['Avg'], min=cost_region[region]['Min'], max=cost_region[region]['Max']))\n",
    "    "
   ]
  },
  {
   "cell_type": "code",
   "execution_count": 18,
   "metadata": {},
   "outputs": [],
   "source": [
    "#All four regions have close to the same amount of representation in the dataset. The southwest has the lowest average medical costs at $12,346, with the northwest close to it with about $100 higher in charges. The southeast is has the highest average medical costs at $14,375, which are $2,000 more than the southwest. The northeast is second highest, with about $900 less in charges than the southeast."
   ]
  },
  {
   "cell_type": "code",
   "execution_count": 19,
   "metadata": {},
   "outputs": [],
   "source": [
    "# determine medical costs by sex\n",
    "def costs_sex(sexes=list_sex):\n",
    "    for sex in sexes:\n",
    "        total_cost = 0.0\n",
    "        min_cost = float('inf')\n",
    "        max_cost = 0.0\n",
    "        num_records = len(records_sex[sex])\n",
    "        for id in records_sex[sex]:\n",
    "            cost = float(records_sex[sex][id]['charges'])\n",
    "            total_cost += cost\n",
    "            if cost < min_cost:\n",
    "                min_cost = cost\n",
    "            if cost > max_cost:\n",
    "                max_cost = cost\n",
    "        cost_sex[sex] = {'Cases': num_records\n",
    "                         , 'Total': int(total_cost)\n",
    "                         , 'Avg': int(total_cost / num_records)\n",
    "                         , 'Min': int(min_cost)\n",
    "                         , 'Max': int(max_cost)\n",
    "                        }\n",
    "    return cost_sex"
   ]
  },
  {
   "cell_type": "code",
   "execution_count": 20,
   "metadata": {},
   "outputs": [
    {
     "name": "stdout",
     "output_type": "stream",
     "text": [
      "For females, the number cases was 662 with total charges of $8321061. The average charge was $12569, the minumum was $1607, and maximum was $63770.\n",
      "For males, the number cases was 676 with total charges of $9434763. The average charge was $13956, the minumum was $1121, and maximum was $62592.\n"
     ]
    }
   ],
   "source": [
    "#Enter sex(es) as list to return medical cost information based on sex\n",
    "cost_sex = {}\n",
    "costs_sex()\n",
    "#print(list_sex)\n",
    "\n",
    "for sex in cost_sex:\n",
    "    print(\"For {sex}s, the number cases was {num} with total charges of ${total}. The average charge was ${avg}, the minumum was ${min}, and maximum was ${max}.\".format(sex=sex, num=cost_sex[sex]['Cases'], total=cost_sex[sex]['Total'], avg=cost_sex[sex]['Avg'], min=cost_sex[sex]['Min'], max=cost_sex[sex]['Max']))\n",
    "    "
   ]
  },
  {
   "cell_type": "code",
   "execution_count": 21,
   "metadata": {},
   "outputs": [],
   "source": [
    "#Fairly even number of males (676) and females (662) represented in the dataset. Males have higher average medical cost than females, at around 1,400 more."
   ]
  },
  {
   "cell_type": "code",
   "execution_count": 22,
   "metadata": {},
   "outputs": [],
   "source": [
    "# determine medical costs by smoker status\n",
    "def costs_smoker(smoker=list_smoker):\n",
    "    for status in smoker:\n",
    "        total_cost = 0.0\n",
    "        min_cost = float('inf')\n",
    "        max_cost = 0.0\n",
    "        num_records = len(records_smoker[status])\n",
    "        for id in records_smoker[status]:\n",
    "            cost = float(records_smoker[status][id]['charges'])\n",
    "            total_cost += cost\n",
    "            if cost < min_cost:\n",
    "                min_cost = cost\n",
    "            if cost > max_cost:\n",
    "                max_cost = cost\n",
    "        cost_smoker[status] = {'Cases': num_records\n",
    "                               , 'Total': int(total_cost)\n",
    "                               , 'Avg': int(total_cost / num_records)\n",
    "                               , 'Min': int(min_cost)\n",
    "                               , 'Max': int(max_cost)\n",
    "                              }\n",
    "    return cost_smoker"
   ]
  },
  {
   "cell_type": "code",
   "execution_count": 23,
   "metadata": {},
   "outputs": [
    {
     "name": "stdout",
     "output_type": "stream",
     "text": [
      "For those who enter 'yes' for smoking, the number cases was 274 with total charges of $8781763. The average charge was $32050, the minumum was $12829, and maximum was $63770.\n",
      "For those who enter 'no' for smoking, the number cases was 1064 with total charges of $8974061. The average charge was $8434, the minumum was $1121, and maximum was $36910.\n"
     ]
    }
   ],
   "source": [
    "#Enter smoker status(es) as list to return medical cost information based on smoker status\n",
    "cost_smoker = {}\n",
    "costs_smoker()\n",
    "#print(list_smoker)\n",
    "\n",
    "for status in cost_smoker:\n",
    "    print(\"For those who enter '{status}' for smoking, the number cases was {num} with total charges of ${total}. The average charge was ${avg}, the minumum was ${min}, and maximum was ${max}.\".format(status=status, num=cost_smoker[status]['Cases'], total=cost_smoker[status]['Total'], avg=cost_smoker[status]['Avg'], min=cost_smoker[status]['Min'], max=cost_smoker[status]['Max']))\n",
    "    "
   ]
  },
  {
   "cell_type": "code",
   "execution_count": 24,
   "metadata": {},
   "outputs": [],
   "source": [
    "#The average medical costs are significantly higher for smokers, almost 4 times more than non-smokers. Smokers also represent a significantly smaller portion of the medical records captured, 274 cases compared to 1,064 cases for non-smokers, yet their total cost is close to the same as non-smokers."
   ]
  },
  {
   "cell_type": "code",
   "execution_count": 25,
   "metadata": {},
   "outputs": [],
   "source": [
    "# determine medical costs by age_range\n",
    "def costs_age_range(age_range=list_age_range):\n",
    "    for range in age_range:\n",
    "        total_cost = 0.0\n",
    "        min_cost = float('inf')\n",
    "        max_cost = 0.0\n",
    "        num_records = len(records_age_range[range])\n",
    "        for id in records_age_range[range]:\n",
    "            cost = float(records_age_range[range][id]['charges'])\n",
    "            total_cost += cost\n",
    "            if cost < min_cost:\n",
    "                min_cost = cost\n",
    "            if cost > max_cost:\n",
    "                max_cost = cost\n",
    "        cost_age_range[range] = {'Cases': num_records\n",
    "                                 , 'Total': int(total_cost)\n",
    "                                 , 'Avg': int(total_cost / num_records)\n",
    "                                 , 'Min': int(min_cost)\n",
    "                                 , 'Max': int(max_cost)\n",
    "                                }\n",
    "    return cost_age_range"
   ]
  },
  {
   "cell_type": "code",
   "execution_count": 26,
   "metadata": {},
   "outputs": [
    {
     "name": "stdout",
     "output_type": "stream",
     "text": [
      "For those 18-25 years of age, the number cases was 306 with total charges of $2780626. The average charge was $9087, the minumum was $1121, and maximum was $44501.\n",
      "For those 26-39 years of age, the number cases was 368 with total charges of $4065337. The average charge was $11047, the minumum was $2302, and maximum was $58571.\n",
      "For those 40-64 years of age, the number cases was 664 with total charges of $10909860. The average charge was $16430, the minumum was $5415, and maximum was $63770.\n"
     ]
    }
   ],
   "source": [
    "#Enter age range(s) as list to return medical cost information based on age range\n",
    "cost_age_range = {}\n",
    "costs_age_range()\n",
    "#print(list_age_range)\n",
    "\n",
    "for age in cost_age_range:\n",
    "    print(\"For those {age} years of age, the number cases was {num} with total charges of ${total}. The average charge was ${avg}, the minumum was ${min}, and maximum was ${max}.\".format(age=age, num=cost_age_range[age]['Cases'], total=cost_age_range[age]['Total'], avg=cost_age_range[age]['Avg'], min=cost_age_range[age]['Min'], max=cost_age_range[age]['Max']))\n",
    "    "
   ]
  },
  {
   "cell_type": "code",
   "execution_count": 27,
   "metadata": {},
   "outputs": [],
   "source": [
    "#The average medical costs rise with each age range represented. There is a significant increase in the average for those in the third group of 40-64, at $16,430 it is almost $5,000 more than the 25-39 group. The difference between the first and second group is around $2,000. In the addition, the third has almost double the number of cases compared to the other two groups. Insterestingly, the minimum and maximum charges also increase with successive age range. As there is no one 65 and older in this dataset, presumably their costs are under Medicare."
   ]
  },
  {
   "cell_type": "code",
   "execution_count": 28,
   "metadata": {},
   "outputs": [],
   "source": [
    "# determine medical costs by those having children or not\n",
    "def costs_children(children=list_children):\n",
    "    for status in children:\n",
    "        total_cost = 0.0\n",
    "        min_cost = float('inf')\n",
    "        max_cost = 0.0\n",
    "        num_records = len(records_children[status])\n",
    "        for id in records_children[status]:\n",
    "            cost = float(records_children[status][id]['charges'])\n",
    "            total_cost += cost\n",
    "            if cost < min_cost:\n",
    "                min_cost = cost\n",
    "            if cost > max_cost:\n",
    "                max_cost = cost\n",
    "        cost_children[status] = {'Cases': num_records\n",
    "                                 , 'Total': int(total_cost)\n",
    "                                 , 'Avg': int(total_cost / num_records)\n",
    "                                 , 'Min': int(min_cost)\n",
    "                                 , 'Max': int(max_cost)\n",
    "                                }\n",
    "    return cost_children"
   ]
  },
  {
   "cell_type": "code",
   "execution_count": 29,
   "metadata": {},
   "outputs": [
    {
     "name": "stdout",
     "output_type": "stream",
     "text": [
      "For those who entered 'no' for having any children, the number cases was 574 with total charges of $7098069. The average charge was $12365, the minumum was $1121, and maximum was $63770.\n",
      "For those who entered 'yes' for having any children, the number cases was 764 with total charges of $10657754. The average charge was $13949, the minumum was $1711, and maximum was $60021.\n"
     ]
    }
   ],
   "source": [
    "cost_children = {}\n",
    "costs_children()\n",
    "#print(list_children)\n",
    "\n",
    "for status in cost_children:\n",
    "    print(\"For those who entered '{status}' for having any children, the number cases was {num} with total charges of ${total}. The average charge was ${avg}, the minumum was ${min}, and maximum was ${max}.\".format(status=status, num=cost_children[status]['Cases'], total=cost_children[status]['Total'], avg=cost_children[status]['Avg'], min=cost_children[status]['Min'], max=cost_children[status]['Max']))\n",
    "    "
   ]
  },
  {
   "cell_type": "code",
   "execution_count": 30,
   "metadata": {},
   "outputs": [],
   "source": [
    "#The average medical costs is higher for those who have children, at $13,949 it is approximately $1,600 more. In addition, there are about 200 more cases with those who have children than those who do not.\n",
    "#It was not explored if, or how, the number of children may impact the medical cost amounts (i.e., fewer or more children)."
   ]
  },
  {
   "cell_type": "code",
   "execution_count": null,
   "metadata": {},
   "outputs": [],
   "source": []
  }
 ],
 "metadata": {
  "kernelspec": {
   "display_name": "Python 3 (ipykernel)",
   "language": "python",
   "name": "python3"
  },
  "language_info": {
   "codemirror_mode": {
    "name": "ipython",
    "version": 3
   },
   "file_extension": ".py",
   "mimetype": "text/x-python",
   "name": "python",
   "nbconvert_exporter": "python",
   "pygments_lexer": "ipython3",
   "version": "3.12.7"
  }
 },
 "nbformat": 4,
 "nbformat_minor": 4
}
